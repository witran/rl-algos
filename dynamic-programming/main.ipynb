{
 "cells": [
  {
   "cell_type": "code",
   "execution_count": 23,
   "metadata": {},
   "outputs": [
    {
     "name": "stdout",
     "output_type": "stream",
     "text": [
      "The autoreload extension is already loaded. To reload it, use:\n",
      "  %reload_ext autoreload\n"
     ]
    }
   ],
   "source": [
    "%load_ext autoreload\n",
    "%autoreload 2\n",
    "\n",
    "import numpy as np\n",
    "import matplotlib.pyplot as plt\n",
    "import environment\n",
    "import policy_iteration\n",
    "import value_iteration\n"
   ]
  },
  {
   "cell_type": "code",
   "execution_count": 42,
   "metadata": {},
   "outputs": [
    {
     "name": "stdout",
     "output_type": "stream",
     "text": [
      "grid size: 4 5\n",
      "grid:\n",
      "[[  0  -1  -1  -1  -1]\n",
      " [-10 -10  -1 -10 -10]\n",
      " [ -1  -1  -1 -10  -1]\n",
      " [-10 -10  -1 -10  -1]]\n",
      "--- policy iteration ---\n",
      "[[  0.   0.  -1.  -2.  -3.]\n",
      " [  0.   0.  -2.  -3.  -4.]\n",
      " [ -5.  -4.  -3.  -4. -14.]\n",
      " [ -6.  -5.  -4.  -5. -15.]]\n",
      "[['↑' '←' '←' '←' '←']\n",
      " ['↑' '↑' '↑' '↑' '↑']\n",
      " ['→' '→' '↑' '←' '↑']\n",
      " ['↑' '↑' '↑' '←' '↑']]\n"
     ]
    },
    {
     "data": {
      "image/png": "[encoded data removed]",
      "text/plain": [
       "<Figure size 432x288 with 1 Axes>"
      ]
     },
     "metadata": {
      "needs_background": "light"
     },
     "output_type": "display_data"
    },
    {
     "name": "stdout",
     "output_type": "stream",
     "text": [
      "--- value iteration ---\n",
      "[[  0.   0.  -1.  -2.  -3.]\n",
      " [  0.   0.  -2.  -3.  -4.]\n",
      " [ -5.  -4.  -3.  -4. -14.]\n",
      " [ -6.  -5.  -4.  -5. -15.]]\n",
      "[['↑' '←' '←' '←' '←']\n",
      " ['↑' '↑' '↑' '↑' '↑']\n",
      " ['→' '→' '↑' '←' '↑']\n",
      " ['↑' '↑' '↑' '←' '↑']]\n"
     ]
    },
    {
     "data": {
      "image/png": "[encoded data removed]",
      "text/plain": [
       "<Figure size 432x288 with 1 Axes>"
      ]
     },
     "metadata": {
      "needs_background": "light"
     },
     "output_type": "display_data"
    }
   ],
   "source": [
    "def to_arrow(pi):\n",
    "    directions = []\n",
    "    arrows = [\"↑\", \"→\", \"↓\", \"←\"]\n",
    "    for actions in pi:\n",
    "        for i in range(4):\n",
    "            if actions[i] > 0:\n",
    "                directions.append(arrows[i])\n",
    "    \n",
    "    return directions\n",
    "\n",
    "def run():\n",
    "    n_row = 4\n",
    "    n_col = 5\n",
    "    print(\"grid size:\", n_row, n_col)\n",
    "    print(\"grid:\")\n",
    "    grid_reward = np.array([\n",
    "        0, -1, -1, -1, -1,\n",
    "        -10, -10, -1, -10, -10,\n",
    "        -1, -1, -1, -10, -1,\n",
    "        -10, -10, -1, -10, -1\n",
    "    ])\n",
    "    terminals = [(1, 1)]\n",
    "    print(np.reshape(grid_reward, (4, 5)))\n",
    "    env = environment.create_env(n_row, n_col, grid_reward, terminals)\n",
    "\n",
    "    S = [s for s in range(n_row * n_col)]\n",
    "    A = [a for a in range(4)]\n",
    "\n",
    "    discount = 1\n",
    "    \n",
    "    print(\"--- policy iteration ---\")\n",
    "    v, pi, log = policy_iteration.learn(S, A, env, discount)\n",
    "    print(np.reshape(v, (n_row, n_col)))\n",
    "    print(np.reshape(to_arrow(pi), (n_row, n_col)))\n",
    "    plt.plot(log)\n",
    "    plt.show()\n",
    "    \n",
    "    print(\"--- value iteration ---\")\n",
    "    v, pi, log = value_iteration.learn(S, A, env, discount)\n",
    "    print(np.reshape(v, (n_row, n_col)))\n",
    "    print(np.reshape(to_arrow(pi), (n_row, n_col)))\n",
    "    plt.plot(log)\n",
    "    plt.show()\n",
    "\n",
    "\n",
    "run()"
   ]
  },
  {
   "cell_type": "code",
   "execution_count": null,
   "metadata": {},
   "outputs": [],
   "source": []
  },
  {
   "cell_type": "code",
   "execution_count": null,
   "metadata": {},
   "outputs": [],
   "source": []
  }
 ],
 "metadata": {
  "kernelspec": {
   "display_name": "Python 3",
   "language": "python",
   "name": "python3"
  },
  "language_info": {
   "codemirror_mode": {
    "name": "ipython",
    "version": 3
   },
   "file_extension": ".py",
   "mimetype": "text/x-python",
   "name": "python",
   "nbconvert_exporter": "python",
   "pygments_lexer": "ipython3",
   "version": "3.8.2"
  }
 },
 "nbformat": 4,
 "nbformat_minor": 4
}
