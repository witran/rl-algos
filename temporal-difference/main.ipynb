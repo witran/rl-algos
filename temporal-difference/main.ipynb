{
 "cells": [
  {
   "cell_type": "code",
   "execution_count": 6,
   "metadata": {},
   "outputs": [
    {
     "name": "stdout",
     "output_type": "stream",
     "text": [
      "The autoreload extension is already loaded. To reload it, use:\n",
      "  %reload_ext autoreload\n"
     ]
    }
   ],
   "source": [
    "%load_ext autoreload\n",
    "%autoreload 2\n",
    "\n",
    "import pprint\n",
    "import numpy as np\n",
    "import matplotlib.pyplot as plt\n",
    "from tqdm import tqdm\n",
    "\n",
    "import environment\n",
    "import td_n_step_sarsa"
   ]
  },
  {
   "cell_type": "code",
   "execution_count": 28,
   "metadata": {},
   "outputs": [
    {
     "name": "stderr",
     "output_type": "stream",
     "text": [
      "100%|██████████| 25/25 [00:12<00:00,  1.95it/s]\n",
      "100%|██████████| 25/25 [00:14<00:00,  1.73it/s]\n",
      "100%|██████████| 25/25 [00:09<00:00,  2.66it/s]\n"
     ]
    }
   ],
   "source": [
    "def to_arrow(pi):\n",
    "    directions = []\n",
    "    arrows = [\"↑\", \"→\", \"↓\", \"←\"]\n",
    "    for actions in pi:\n",
    "        for i in range(len(actions)):\n",
    "            if actions[i] > 0:\n",
    "                directions.append(arrows[i])\n",
    "    \n",
    "    return directions\n",
    "\n",
    "def run():\n",
    "    grid_actions = 4\n",
    "    grid = [\n",
    "        \".......\",\n",
    "        \".......\",\n",
    "        \".......\",\n",
    "        \".......\",\n",
    "        \".......\",\n",
    "        \"SCCCCCT\",\n",
    "        \".......\"\n",
    "    ]\n",
    "    # env\n",
    "    env = environment.create(grid=grid, step_reward=-1, cliff_reward=-100)\n",
    "    \n",
    "    # S, A\n",
    "    n_row = len(grid)\n",
    "    n_col = len(grid[0])\n",
    "    S = [s for s in range(n_row * n_col)]\n",
    "    A = [a for a in range(grid_actions)]\n",
    "    \n",
    "    # agent\n",
    "    agent = {\n",
    "        \"discount\": 0.9,\n",
    "        \"step_size\": 0.05,\n",
    "        \"epsilon\": 0.1,\n",
    "        \"trace_length\": 3,\n",
    "        \"n_iterations\": 500,\n",
    "        \"learn_online\": True,\n",
    "        \"plan_background\": True\n",
    "    }\n",
    "    \n",
    "    bootstraps = [\"sarsa\", \"expected\", \"q\"]\n",
    "    results = []\n",
    "    n_runs = 25\n",
    "    \n",
    "    for bootstrap in bootstraps:\n",
    "        agent[\"bootstrap\"] = bootstrap\n",
    "        error_histories = []\n",
    "        length_histories = []\n",
    "        visit_counts = []\n",
    "        q, pi = None, None\n",
    "        \n",
    "        for i in tqdm(range(n_runs)):\n",
    "            q, pi, log = td_n_step_sarsa.learn(S, A, env, agent)\n",
    "            error_history, length_history, visit_count = log\n",
    "            \n",
    "            error_histories.append(error_history)\n",
    "            length_histories.append(length_history)\n",
    "            visit_counts.append(visit_count)\n",
    "        \n",
    "        results.append((bootstrap, np.average(error_histories, axis=0), \n",
    "                        np.average(length_histories, axis=0), np.average(visit_counts, axis=0)))\n",
    "    \n",
    "    return results\n",
    "\n",
    "results = run()\n"
   ]
  },
  {
   "cell_type": "code",
   "execution_count": 29,
   "metadata": {},
   "outputs": [
    {
     "data": {
      "image/png": "[encoded data removed]",
      "text/plain": [
       "<Figure size 432x288 with 1 Axes>"
      ]
     },
     "metadata": {
      "needs_background": "light"
     },
     "output_type": "display_data"
    },
    {
     "data": {
      "image/png": "[encoded data removed]",
      "text/plain": [
       "<Figure size 432x288 with 1 Axes>"
      ]
     },
     "metadata": {
      "needs_background": "light"
     },
     "output_type": "display_data"
    },
    {
     "name": "stdout",
     "output_type": "stream",
     "text": [
      "sarsa\n",
      "[[ 1.88  0.72  0.44  0.76  0.76  0.4   0.12]\n",
      " [ 0.64  0.92  0.4   0.64  0.76  0.44  0.36]\n",
      " [ 3.68  4.6   5.    5.24  4.84  3.84  2.52]\n",
      " [20.28 16.76 16.8  15.68 16.68 17.48 19.44]\n",
      " [20.4   1.56  2.08  1.64  2.36  2.   25.32]\n",
      " [22.2   0.92  0.04  0.08  0.04  4.76 23.64]\n",
      " [ 1.48  0.2   0.16  0.16  0.24  0.56  5.48]]\n",
      "expected\n",
      "[[ 0.92  0.44  0.44  0.16  0.32  0.2   0.12]\n",
      " [ 0.24  0.2   0.48  0.52  0.68  0.48  0.28]\n",
      " [ 0.84  1.28  1.12  1.28  1.32  1.48  1.32]\n",
      " [20.36 19.72 19.52 19.6  19.2  19.2  19.8 ]\n",
      " [21.04  1.04  0.76  0.76  0.84  1.64 25.04]\n",
      " [21.2   0.4   0.08  0.04  0.    4.8  23.76]\n",
      " [ 1.    1.16  0.92  0.84  0.32  0.84  5.64]]\n",
      "q\n",
      "[[ 0.12  0.32  0.28  0.08  0.04  0.12  0.2 ]\n",
      " [ 0.68  0.8   0.8   0.36  0.24  0.32  0.32]\n",
      " [ 1.04  0.88  1.    1.12  1.2   1.6   1.6 ]\n",
      " [20.12 19.84 19.76 19.72 18.84 18.2  18.12]\n",
      " [20.44  0.96  0.6   1.52  2.52  3.64 25.08]\n",
      " [21.56  0.84  0.04  0.    0.04  5.   23.56]\n",
      " [ 0.56  0.16  0.12  0.08  0.08  0.08  4.76]]\n"
     ]
    }
   ],
   "source": [
    "def plot(title, data):\n",
    "    for d in data:\n",
    "        plt.plot(d[1])\n",
    "        plt.plot(d[1], label=d[0])\n",
    "    plt.title(title)\n",
    "    plt.legend()\n",
    "    plt.show()\n",
    "    \n",
    "plot(\"error\", [(result[0], result[1]) for result in results])\n",
    "plot(\"length\", [(result[0], result[2]) for result in results])\n",
    "\n",
    "for result in results:\n",
    "    print(result[0])\n",
    "    print(result[3].reshape((7, 7)))\n"
   ]
  },
  {
   "cell_type": "code",
   "execution_count": null,
   "metadata": {},
   "outputs": [],
   "source": []
  }
 ],
 "metadata": {
  "kernelspec": {
   "display_name": "Python 3",
   "language": "python",
   "name": "python3"
  },
  "language_info": {
   "codemirror_mode": {
    "name": "ipython",
    "version": 3
   },
   "file_extension": ".py",
   "mimetype": "text/x-python",
   "name": "python",
   "nbconvert_exporter": "python",
   "pygments_lexer": "ipython3",
   "version": "3.8.2"
  }
 },
 "nbformat": 4,
 "nbformat_minor": 4
}
